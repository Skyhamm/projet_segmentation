{
 "cells": [
  {
   "cell_type": "markdown",
   "metadata": {},
   "source": [
    "> # Projet de Segmentation d’Image Industrielle\n",
    " > ### Détection de Défauts de Pièces Industrielles par Deep Learning\n",
    "\n",
    "    groupe : Thibault et Julien"
   ]
  },
  {
   "cell_type": "markdown",
   "metadata": {},
   "source": [
    "#### Objectifs du Projet : \n",
    "Dans ce projet, vous allez implémenter une méthode de votre choix en utilisant PyTorch pour effectuer une segmentation d’image afin de détecter des défauts dans des pièces industrielles."
   ]
  },
  {
   "cell_type": "markdown",
   "metadata": {},
   "source": []
  }
 ],
 "metadata": {
  "kernelspec": {
   "display_name": "Python 3",
   "language": "python",
   "name": "python3"
  },
  "language_info": {
   "name": "python",
   "version": "3.11.3"
  }
 },
 "nbformat": 4,
 "nbformat_minor": 2
}
